{
 "cells": [
  {
   "cell_type": "code",
   "execution_count": 1,
   "metadata": {
    "collapsed": true
   },
   "outputs": [],
   "source": [
    "%load_ext autoreload\n",
    "%autoreload 2\n",
    "%matplotlib inline"
   ]
  },
  {
   "cell_type": "code",
   "execution_count": 2,
   "metadata": {
    "collapsed": true
   },
   "outputs": [],
   "source": [
    "from __future__ import print_function\n",
    "\n",
    "import pickle\n",
    "import os\n",
    "import numpy as np\n",
    "import matplotlib.pyplot as plt"
   ]
  },
  {
   "cell_type": "markdown",
   "metadata": {},
   "source": [
    "**TEST 1**"
   ]
  },
  {
   "cell_type": "code",
   "execution_count": 3,
   "metadata": {
    "collapsed": false
   },
   "outputs": [],
   "source": [
    "elapsed = np.zeros([11, 100])\n",
    "ELAPSED = 'saved_graphs/testing/elapse-5preds10-load-100weight-63187.pkl'\n",
    "with open(ELAPSED, 'rb') as f:\n",
    "    elapsed[0] = pickle.load(f)\n",
    "    \n",
    "ELAPSED = 'saved_graphs/testing/elapse-5preds20-load-100weight-111730.pkl'\n",
    "with open(ELAPSED, 'rb') as f:\n",
    "    elapsed[1] = pickle.load(f)\n",
    "    \n",
    "ELAPSED = 'saved_graphs/testing/elapse-5preds30-load-100weight-55696.pkl'\n",
    "with open(ELAPSED, 'rb') as f:\n",
    "    elapsed[2] = pickle.load(f)\n",
    "    \n",
    "ELAPSED = 'saved_graphs/testing/elapse-5preds40-load-100weight-28549.pkl'\n",
    "with open(ELAPSED, 'rb') as f:\n",
    "    elapsed[3] = pickle.load(f)\n",
    "    \n",
    "ELAPSED = 'saved_graphs/testing/elapse-5preds50-load-100weight-32785.pkl'\n",
    "with open(ELAPSED, 'rb') as f:\n",
    "    elapsed[4] = pickle.load(f)\n",
    "    \n",
    "ELAPSED = 'saved_graphs/testing/elapse-5preds60-load-100weight-33310.pkl'\n",
    "with open(ELAPSED, 'rb') as f:\n",
    "    elapsed[5] = pickle.load(f)\n",
    "    \n",
    "ELAPSED = 'saved_graphs/testing/elapse-5preds70-load-100weight-23329.pkl'\n",
    "with open(ELAPSED, 'rb') as f:\n",
    "    elapsed[6] = pickle.load(f)\n",
    "    \n",
    "ELAPSED = 'saved_graphs/testing/elapse-5preds80-load-100weight-25243.pkl'\n",
    "with open(ELAPSED, 'rb') as f:\n",
    "    elapsed[7] = pickle.load(f)\n",
    "    \n",
    "ELAPSED = 'saved_graphs/testing/elapse-5preds90-load-100weight-21934.pkl'\n",
    "with open(ELAPSED, 'rb') as f:\n",
    "    elapsed[8] = pickle.load(f)\n",
    "    \n",
    "ELAPSED = 'saved_graphs/testing/elapse-5preds100-load-100weight-26866.pkl'\n",
    "with open(ELAPSED, 'rb') as f:\n",
    "    elapsed[9] = pickle.load(f)\n",
    "    \n",
    "ELAPSED = 'saved_graphs/testing/elapse-5indeps-100weight-17014.pkl'\n",
    "with open(ELAPSED, 'rb') as f:\n",
    "    elapsed[10] = pickle.load(f)\n"
   ]
  },
  {
   "cell_type": "code",
   "execution_count": 4,
   "metadata": {
    "collapsed": false
   },
   "outputs": [],
   "source": [
    "REWARDS = 'saved_graphs/testing/rewards-5preds10-load-100weight-63187.pkl'\n",
    "with open(REWARDS, 'rb') as f:\n",
    "    rewards_10 = pickle.load(f)\n",
    "\n",
    "REWARDS = 'saved_graphs/testing/rewards-5preds20-load-100weight-111730.pkl'\n",
    "with open(REWARDS, 'rb') as f:\n",
    "    rewards_20 = pickle.load(f)\n",
    "    \n",
    "REWARDS = 'saved_graphs/testing/rewards-5preds30-load-100weight-55696.pkl'\n",
    "with open(REWARDS, 'rb') as f:\n",
    "    rewards_30 = pickle.load(f)\n",
    "    \n",
    "REWARDS = 'saved_graphs/testing/rewards-5preds40-load-100weight-28549.pkl'\n",
    "with open(REWARDS, 'rb') as f:\n",
    "    rewards_40 = pickle.load(f)\n",
    "    \n",
    "REWARDS = 'saved_graphs/testing/rewards-5preds50-load-100weight-32785.pkl'\n",
    "with open(REWARDS, 'rb') as f:\n",
    "    rewards_50 = pickle.load(f)\n",
    "    \n",
    "REWARDS = 'saved_graphs/testing/rewards-5preds60-load-100weight-33310.pkl'\n",
    "with open(REWARDS, 'rb') as f:\n",
    "    rewards_60 = pickle.load(f)\n",
    "    \n",
    "REWARDS = 'saved_graphs/testing/rewards-5preds70-load-100weight-23329.pkl'\n",
    "with open(REWARDS, 'rb') as f:\n",
    "    rewards_70 = pickle.load(f)\n",
    "    \n",
    "REWARDS = 'saved_graphs/testing/rewards-5preds80-load-100weight-25243.pkl'\n",
    "with open(REWARDS, 'rb') as f:\n",
    "    rewards_80 = pickle.load(f)\n",
    "    \n",
    "REWARDS = 'saved_graphs/testing/rewards-5preds90-load-100weight-21934.pkl'\n",
    "with open(REWARDS, 'rb') as f:\n",
    "    rewards_90 = pickle.load(f)\n",
    "    \n",
    "REWARDS = 'saved_graphs/testing/rewards-5preds100-load-100weight-26866.pkl'\n",
    "with open(REWARDS, 'rb') as f:\n",
    "    rewards_100 = pickle.load(f)\n",
    "    \n",
    "REWARDS = 'saved_graphs/testing/rewards-5indeps-100weight-17014.pkl'\n",
    "with open(REWARDS, 'rb') as f:\n",
    "    rewards_ind = pickle.load(f)\n",
    "    \n",
    "rewards_all = []\n",
    "rewards_all.append(rewards_10)\n",
    "rewards_all.append(rewards_20)\n",
    "rewards_all.append(rewards_30)\n",
    "rewards_all.append(rewards_40)\n",
    "rewards_all.append(rewards_50)\n",
    "rewards_all.append(rewards_60)\n",
    "rewards_all.append(rewards_70)\n",
    "rewards_all.append(rewards_80)\n",
    "rewards_all.append(rewards_90)\n",
    "rewards_all.append(rewards_100)\n",
    "rewards_all.append(rewards_ind)"
   ]
  },
  {
   "cell_type": "code",
   "execution_count": 5,
   "metadata": {
    "collapsed": true
   },
   "outputs": [],
   "source": [
    "xaxis = [0,1,2,3,4,5,6,7,8,9,10]\n",
    "xlabel = ['0.1', '0.2', '0.3', '0.4', '0.5', '0.6', '0.7', '0.8', '0.9', '1.0', 'independents']"
   ]
  },
  {
   "cell_type": "code",
   "execution_count": 6,
   "metadata": {
    "collapsed": false
   },
   "outputs": [
    {
     "data": {
      "image/png": "[encoded data removed]",
      "text/plain": [
       "<matplotlib.figure.Figure at 0x10ed53080>"
      ]
     },
     "metadata": {},
     "output_type": "display_data"
    }
   ],
   "source": [
    "time_avg_1 = np.zeros(11)\n",
    "time_std_1 = np.zeros(11)\n",
    "rewards_std_1 = np.zeros(11)\n",
    "\n",
    "# remove weird outlier\n",
    "temp = np.delete(elapsed[8], 80)\n",
    "temp = np.append(temp, np.mean(temp))\n",
    "elapsed[8] = temp\n",
    "\n",
    "for i in range(11):\n",
    "    time_avg_1[i] = sum(elapsed[i])/100\n",
    "    time_std_1[i] = np.std(elapsed[i])\n",
    "    rewards_std_1[i] = np.std(rewards_all[i][99])\n",
    "\n",
    "fig = plt.figure()    \n",
    "plt.bar(np.arange(11), time_avg_1, align='center', alpha=0.5, label = \"Average trial time\")\n",
    "plt.plot(rewards_std_1, 'go', label = \"Rewards distribution stdev\")\n",
    "plt.errorbar(xaxis, time_avg_1, yerr = time_std_1, fmt='b.')\n",
    "plt.xticks(xaxis, xlabel, rotation = 45)\n",
    "leg = plt.legend(loc = 'upper right')\n",
    "\n",
    "ax = plt.gca()\n",
    "# Get the bounding box of the original legend\n",
    "bb = leg.get_bbox_to_anchor().inverse_transformed(ax.transAxes)\n",
    "\n",
    "# Change to location of the legend. \n",
    "xOffset = 0.6\n",
    "bb.x0 += xOffset\n",
    "bb.x1 += xOffset\n",
    "leg.set_bbox_to_anchor(bb, transform = ax.transAxes)\n",
    "\n",
    "plt.xlabel('Group by personal weight')\n",
    "plt.title('Test 1')\n",
    "plt.ylim([0, 65])\n",
    "plt.show()"
   ]
  },
  {
   "cell_type": "code",
   "execution_count": 7,
   "metadata": {
    "collapsed": false
   },
   "outputs": [],
   "source": [
    "collisions = np.zeros([11, 5])\n",
    "COLLISIONS = 'saved_graphs/testing/collsions-5preds10-load-100weight-63187.pkl'\n",
    "with open(COLLISIONS, 'rb') as f:\n",
    "    collisions[0] = pickle.load(f)\n",
    "    \n",
    "COLLISIONS = 'saved_graphs/testing/collsions-5preds20-load-100weight-111730.pkl'\n",
    "with open(COLLISIONS, 'rb') as f:\n",
    "    collisions[1] = pickle.load(f)\n",
    "    \n",
    "COLLISIONS = 'saved_graphs/testing/collsions-5preds30-load-100weight-55696.pkl'\n",
    "with open(COLLISIONS, 'rb') as f:\n",
    "    collisions[2] = pickle.load(f)\n",
    "    \n",
    "COLLISIONS = 'saved_graphs/testing/collsions-5preds40-load-100weight-28549.pkl'\n",
    "with open(COLLISIONS, 'rb') as f:\n",
    "    collisions[3] = pickle.load(f)\n",
    "    \n",
    "COLLISIONS = 'saved_graphs/testing/collsions-5preds50-load-100weight-32785.pkl'\n",
    "with open(COLLISIONS, 'rb') as f:\n",
    "    collisions[4] = pickle.load(f)\n",
    "    \n",
    "COLLISIONS = 'saved_graphs/testing/collsions-5preds60-load-100weight-33310.pkl'\n",
    "with open(COLLISIONS, 'rb') as f:\n",
    "    collisions[5] = pickle.load(f)\n",
    "    \n",
    "COLLISIONS = 'saved_graphs/testing/collsions-5preds70-load-100weight-23329.pkl'\n",
    "with open(COLLISIONS, 'rb') as f:\n",
    "    collisions[6] = pickle.load(f)\n",
    "    \n",
    "COLLISIONS = 'saved_graphs/testing/collsions-5preds80-load-100weight-25243.pkl'\n",
    "with open(COLLISIONS, 'rb') as f:\n",
    "    collisions[7] = pickle.load(f)\n",
    "    \n",
    "COLLISIONS = 'saved_graphs/testing/collsions-5preds90-load-100weight-21934.pkl'\n",
    "with open(COLLISIONS, 'rb') as f:\n",
    "    collisions[8] = pickle.load(f)\n",
    "    \n",
    "COLLISIONS = 'saved_graphs/testing/collsions-5preds100-load-100weight-26866.pkl'\n",
    "with open(COLLISIONS, 'rb') as f:\n",
    "    collisions[9] = pickle.load(f)\n",
    "    \n",
    "COLLISIONS = 'saved_graphs/testing/collsions-5indeps-load-100weight-17014.pkl'\n",
    "with open(COLLISIONS, 'rb') as f:\n",
    "    collisions[10] = pickle.load(f)\n"
   ]
  },
  {
   "cell_type": "code",
   "execution_count": 8,
   "metadata": {
    "collapsed": false
   },
   "outputs": [
    {
     "data": {
      "image/png": "[encoded data removed]",
      "text/plain": [
       "<matplotlib.figure.Figure at 0x10ed64eb8>"
      ]
     },
     "metadata": {},
     "output_type": "display_data"
    }
   ],
   "source": [
    "collision_avg_1 = np.zeros(11)\n",
    "collision_std_1 = np.zeros(11)\n",
    "for i in range(11):\n",
    "    collision_avg_1[i] = sum(collisions[i])/5\n",
    "    collision_std_1[i] = np.std(collisions[i])\n",
    "    \n",
    "plt.errorbar(xaxis, collision_avg_1, yerr = collision_std_1, fmt='o')\n",
    "plt.xlabel('Group by personal weight')\n",
    "plt.ylabel('Average collisions')\n",
    "plt.title('Test 1')\n",
    "plt.xticks(xaxis, xlabel, rotation = 45)\n",
    "plt.show()"
   ]
  },
  {
   "cell_type": "markdown",
   "metadata": {},
   "source": [
    "**TEST 2**"
   ]
  },
  {
   "cell_type": "code",
   "execution_count": 9,
   "metadata": {
    "collapsed": false
   },
   "outputs": [],
   "source": [
    "elapsed = np.zeros([11, 100])\n",
    "ELAPSED = 'saved_graphs/testing/elapse-5preds10-load-100weight-c-63787.pkl'\n",
    "with open(ELAPSED, 'rb') as f:\n",
    "    elapsed[0] = pickle.load(f)\n",
    "    \n",
    "ELAPSED = 'saved_graphs/testing/elapse-5preds20-load-100weight-c-68881.pkl'\n",
    "with open(ELAPSED, 'rb') as f:\n",
    "    elapsed[1] = pickle.load(f)\n",
    "    \n",
    "ELAPSED = 'saved_graphs/testing/elapse-5preds30-load-100weight-c-33808.pkl'\n",
    "with open(ELAPSED, 'rb') as f:\n",
    "    elapsed[2] = pickle.load(f)\n",
    "    \n",
    "ELAPSED = 'saved_graphs/testing/elapse-5preds40-load-100weight-c-21025.pkl'\n",
    "with open(ELAPSED, 'rb') as f:\n",
    "    elapsed[3] = pickle.load(f)\n",
    "    \n",
    "ELAPSED = 'saved_graphs/testing/elapse-5preds50-load-100weight-c-18451.pkl'\n",
    "with open(ELAPSED, 'rb') as f:\n",
    "    elapsed[4] = pickle.load(f)\n",
    "    \n",
    "ELAPSED = 'saved_graphs/testing/elapse-5preds60-load-100weight-c-18343.pkl'\n",
    "with open(ELAPSED, 'rb') as f:\n",
    "    elapsed[5] = pickle.load(f)\n",
    "    \n",
    "ELAPSED = 'saved_graphs/testing/elapse-5preds70-load-100weight-c-19249.pkl'\n",
    "with open(ELAPSED, 'rb') as f:\n",
    "    elapsed[6] = pickle.load(f)\n",
    "    \n",
    "ELAPSED = 'saved_graphs/testing/elapse-5preds80-load-100weight-c-16741.pkl'\n",
    "with open(ELAPSED, 'rb') as f:\n",
    "    elapsed[7] = pickle.load(f)\n",
    "    \n",
    "ELAPSED = 'saved_graphs/testing/elapse-5preds90-load-100weight-c-15535.pkl'\n",
    "with open(ELAPSED, 'rb') as f:\n",
    "    elapsed[8] = pickle.load(f)\n",
    "    \n",
    "ELAPSED = 'saved_graphs/testing/elapse-5preds100-load-100weight-c-15520.pkl'\n",
    "with open(ELAPSED, 'rb') as f:\n",
    "    elapsed[9] = pickle.load(f)\n",
    "    \n",
    "ELAPSED = 'saved_graphs/testing/elapse-5indeps-100weight-c-10288.pkl'\n",
    "with open(ELAPSED, 'rb') as f:\n",
    "    elapsed[10] = pickle.load(f)"
   ]
  },
  {
   "cell_type": "code",
   "execution_count": 10,
   "metadata": {
    "collapsed": false
   },
   "outputs": [],
   "source": [
    "REWARDS = 'saved_graphs/testing/rewards-5preds10-load-100weight-c-63787.pkl'\n",
    "with open(REWARDS, 'rb') as f:\n",
    "    rewards_10 = pickle.load(f)\n",
    "\n",
    "REWARDS = 'saved_graphs/testing/rewards-5preds20-load-100weight-c-68881.pkl'\n",
    "with open(REWARDS, 'rb') as f:\n",
    "    rewards_20 = pickle.load(f)\n",
    "    \n",
    "REWARDS = 'saved_graphs/testing/rewards-5preds30-load-100weight-c-33808.pkl'\n",
    "with open(REWARDS, 'rb') as f:\n",
    "    rewards_30 = pickle.load(f)\n",
    "    \n",
    "REWARDS = 'saved_graphs/testing/rewards-5preds40-load-100weight-c-21025.pkl'\n",
    "with open(REWARDS, 'rb') as f:\n",
    "    rewards_40 = pickle.load(f)\n",
    "    \n",
    "REWARDS = 'saved_graphs/testing/rewards-5preds50-load-100weight-c-18451.pkl'\n",
    "with open(REWARDS, 'rb') as f:\n",
    "    rewards_50 = pickle.load(f)\n",
    "    \n",
    "REWARDS = 'saved_graphs/testing/rewards-5preds60-load-100weight-c-18343.pkl'\n",
    "with open(REWARDS, 'rb') as f:\n",
    "    rewards_60 = pickle.load(f)\n",
    "    \n",
    "REWARDS = 'saved_graphs/testing/rewards-5preds70-load-100weight-c-19249.pkl'\n",
    "with open(REWARDS, 'rb') as f:\n",
    "    rewards_70 = pickle.load(f)\n",
    "    \n",
    "REWARDS = 'saved_graphs/testing/rewards-5preds80-load-100weight-c-16741.pkl'\n",
    "with open(REWARDS, 'rb') as f:\n",
    "    rewards_80 = pickle.load(f)\n",
    "    \n",
    "REWARDS = 'saved_graphs/testing/rewards-5preds90-load-100weight-c-15535.pkl'\n",
    "with open(REWARDS, 'rb') as f:\n",
    "    rewards_90 = pickle.load(f)\n",
    "    \n",
    "REWARDS = 'saved_graphs/testing/rewards-5preds100-load-100weight-c-15520.pkl'\n",
    "with open(REWARDS, 'rb') as f:\n",
    "    rewards_100 = pickle.load(f)\n",
    "    \n",
    "REWARDS = 'saved_graphs/testing/rewards-5indeps-100weight-c-10288.pkl'\n",
    "with open(REWARDS, 'rb') as f:\n",
    "    rewards_ind = pickle.load(f)\n",
    "    \n",
    "rewards_all = []\n",
    "rewards_all.append(rewards_10)\n",
    "rewards_all.append(rewards_20)\n",
    "rewards_all.append(rewards_30)\n",
    "rewards_all.append(rewards_40)\n",
    "rewards_all.append(rewards_50)\n",
    "rewards_all.append(rewards_60)\n",
    "rewards_all.append(rewards_70)\n",
    "rewards_all.append(rewards_80)\n",
    "rewards_all.append(rewards_90)\n",
    "rewards_all.append(rewards_100)\n",
    "rewards_all.append(rewards_ind)\n"
   ]
  },
  {
   "cell_type": "code",
   "execution_count": 11,
   "metadata": {
    "collapsed": false
   },
   "outputs": [
    {
     "data": {
      "image/png": "[encoded data removed]",
      "text/plain": [
       "<matplotlib.figure.Figure at 0x10ed640b8>"
      ]
     },
     "metadata": {},
     "output_type": "display_data"
    }
   ],
   "source": [
    "time_avg_2 = np.zeros(11)\n",
    "time_std_2 = np.zeros(11)\n",
    "rewards_std_2 = np.zeros(11)\n",
    "for i in range(11):\n",
    "    time_avg_2[i] = sum(elapsed[i])/100\n",
    "    time_std_2[i] = np.std(elapsed[i])\n",
    "    rewards_std_2[i] = np.std(rewards_all[i][99])\n",
    "\n",
    "fig = plt.figure()    \n",
    "plt.bar(np.arange(11), time_avg_2, align='center', alpha=0.5, label = \"Average trial time\")\n",
    "plt.plot(rewards_std_2, 'go', label = \"Rewards distribution stdev\")\n",
    "plt.errorbar(xaxis, time_avg_2, yerr = time_std_2, fmt='b.')\n",
    "plt.xticks(xaxis, xlabel, rotation = 45)\n",
    "leg = plt.legend(loc = 'upper right')\n",
    "\n",
    "ax = plt.gca()\n",
    "# Get the bounding box of the original legend\n",
    "bb = leg.get_bbox_to_anchor().inverse_transformed(ax.transAxes)\n",
    "\n",
    "# Change to location of the legend. \n",
    "xOffset = 0.6\n",
    "bb.x0 += xOffset\n",
    "bb.x1 += xOffset\n",
    "leg.set_bbox_to_anchor(bb, transform = ax.transAxes)\n",
    "\n",
    "plt.xlabel('Group by personal weight')\n",
    "plt.title('Test 2')\n",
    "plt.ylim([0, 65])\n",
    "plt.show()"
   ]
  },
  {
   "cell_type": "code",
   "execution_count": 12,
   "metadata": {
    "collapsed": true
   },
   "outputs": [],
   "source": [
    "collisions = np.zeros([11, 5])\n",
    "COLLISIONS = 'saved_graphs/testing/collsions-5preds10-load-100weight-c-63787.pkl'\n",
    "with open(COLLISIONS, 'rb') as f:\n",
    "    collisions[0] = pickle.load(f)\n",
    "    \n",
    "COLLISIONS = 'saved_graphs/testing/collsions-5preds20-load-100weight-c-68881.pkl'\n",
    "with open(COLLISIONS, 'rb') as f:\n",
    "    collisions[1] = pickle.load(f)\n",
    "    \n",
    "COLLISIONS = 'saved_graphs/testing/collsions-5preds30-load-100weight-c-33808.pkl'\n",
    "with open(COLLISIONS, 'rb') as f:\n",
    "    collisions[2] = pickle.load(f)\n",
    "    \n",
    "COLLISIONS = 'saved_graphs/testing/collsions-5preds40-load-100weight-c-21025.pkl'\n",
    "with open(COLLISIONS, 'rb') as f:\n",
    "    collisions[3] = pickle.load(f)\n",
    "    \n",
    "COLLISIONS = 'saved_graphs/testing/collsions-5preds50-load-100weight-c-18451.pkl'\n",
    "with open(COLLISIONS, 'rb') as f:\n",
    "    collisions[4] = pickle.load(f)\n",
    "    \n",
    "COLLISIONS = 'saved_graphs/testing/collsions-5preds60-load-100weight-c-18343.pkl'\n",
    "with open(COLLISIONS, 'rb') as f:\n",
    "    collisions[5] = pickle.load(f)\n",
    "    \n",
    "COLLISIONS = 'saved_graphs/testing/collsions-5preds70-load-100weight-c-19249.pkl'\n",
    "with open(COLLISIONS, 'rb') as f:\n",
    "    collisions[6] = pickle.load(f)\n",
    "    \n",
    "COLLISIONS = 'saved_graphs/testing/collsions-5preds80-load-100weight-c-16741.pkl'\n",
    "with open(COLLISIONS, 'rb') as f:\n",
    "    collisions[7] = pickle.load(f)\n",
    "    \n",
    "COLLISIONS = 'saved_graphs/testing/collsions-5preds90-load-100weight-c-15535.pkl'\n",
    "with open(COLLISIONS, 'rb') as f:\n",
    "    collisions[8] = pickle.load(f)\n",
    "    \n",
    "COLLISIONS = 'saved_graphs/testing/collsions-5preds100-load-100weight-c-15520.pkl'\n",
    "with open(COLLISIONS, 'rb') as f:\n",
    "    collisions[9] = pickle.load(f)\n",
    "    \n",
    "COLLISIONS = 'saved_graphs/testing/collsions-5indeps-load-100weight-c-10288.pkl'\n",
    "with open(COLLISIONS, 'rb') as f:\n",
    "    collisions[10] = pickle.load(f)\n"
   ]
  },
  {
   "cell_type": "code",
   "execution_count": 13,
   "metadata": {
    "collapsed": false
   },
   "outputs": [
    {
     "data": {
      "image/png": "[encoded data removed]",
      "text/plain": [
       "<matplotlib.figure.Figure at 0x10ef98e80>"
      ]
     },
     "metadata": {},
     "output_type": "display_data"
    }
   ],
   "source": [
    "collision_avg_2 = np.zeros(11)\n",
    "collision_std_2 = np.zeros(11)\n",
    "for i in range(11):\n",
    "    collision_avg_2[i] = sum(collisions[i])/5\n",
    "    collision_std_2[i] = np.std(collisions[i])\n",
    "    \n",
    "plt.errorbar(xaxis, collision_avg_2, yerr = collision_std_2, fmt='o')\n",
    "plt.xlabel('Group by personal weight')\n",
    "plt.ylabel('Average collisions')\n",
    "plt.xticks(xaxis, xlabel, rotation = 45)\n",
    "plt.title('Test 2')\n",
    "plt.show()"
   ]
  },
  {
   "cell_type": "markdown",
   "metadata": {},
   "source": [
    "**TEST 3**"
   ]
  },
  {
   "cell_type": "code",
   "execution_count": 14,
   "metadata": {
    "collapsed": true
   },
   "outputs": [],
   "source": [
    "elapsed = np.zeros([11, 100])\n",
    "ELAPSED = 'saved_graphs/testing/elapse-5preds10-load-100weight-u75-86182.pkl'\n",
    "with open(ELAPSED, 'rb') as f:\n",
    "    elapsed[0] = pickle.load(f)\n",
    "    \n",
    "ELAPSED = 'saved_graphs/testing/elapse-5preds20-load-100weight-u75-96376.pkl'\n",
    "with open(ELAPSED, 'rb') as f:\n",
    "    elapsed[1] = pickle.load(f)\n",
    "    \n",
    "ELAPSED = 'saved_graphs/testing/elapse-5preds30-load-100weight-u75-48898.pkl'\n",
    "with open(ELAPSED, 'rb') as f:\n",
    "    elapsed[2] = pickle.load(f)\n",
    "    \n",
    "ELAPSED = 'saved_graphs/testing/elapse-5preds40-load-100weight-u75-33163.pkl'\n",
    "with open(ELAPSED, 'rb') as f:\n",
    "    elapsed[3] = pickle.load(f)\n",
    "    \n",
    "ELAPSED = 'saved_graphs/testing/elapse-5preds50-load-100weight-u75-28153.pkl'\n",
    "with open(ELAPSED, 'rb') as f:\n",
    "    elapsed[4] = pickle.load(f)\n",
    "    \n",
    "ELAPSED = 'saved_graphs/testing/elapse-5preds60-load-100weight-u75-34222.pkl'\n",
    "with open(ELAPSED, 'rb') as f:\n",
    "    elapsed[5] = pickle.load(f)\n",
    "    \n",
    "ELAPSED = 'saved_graphs/testing/elapse-5preds70-load-100weight-u75-28648.pkl'\n",
    "with open(ELAPSED, 'rb') as f:\n",
    "    elapsed[6] = pickle.load(f)\n",
    "    \n",
    "ELAPSED = 'saved_graphs/testing/elapse-5preds80-load-100weight-u75-26914.pkl'\n",
    "with open(ELAPSED, 'rb') as f:\n",
    "    elapsed[7] = pickle.load(f)\n",
    "    \n",
    "ELAPSED = 'saved_graphs/testing/elapse-5preds90-load-100weight-u75-20131.pkl'\n",
    "with open(ELAPSED, 'rb') as f:\n",
    "    elapsed[8] = pickle.load(f)\n",
    "    \n",
    "ELAPSED = 'saved_graphs/testing/elapse-5preds100-load-100weight-u75-25792.pkl'\n",
    "with open(ELAPSED, 'rb') as f:\n",
    "    elapsed[9] = pickle.load(f)\n",
    "    \n",
    "ELAPSED = 'saved_graphs/testing/elapse-5indeps-100weight-u75-20206.pkl'\n",
    "with open(ELAPSED, 'rb') as f:\n",
    "    elapsed[10] = pickle.load(f)\n"
   ]
  },
  {
   "cell_type": "code",
   "execution_count": 15,
   "metadata": {
    "collapsed": true
   },
   "outputs": [],
   "source": [
    "REWARDS = 'saved_graphs/testing/rewards-5preds10-load-100weight-u75-86182.pkl'\n",
    "with open(REWARDS, 'rb') as f:\n",
    "    rewards_10 = pickle.load(f)\n",
    "\n",
    "REWARDS = 'saved_graphs/testing/rewards-5preds20-load-100weight-u75-96376.pkl'\n",
    "with open(REWARDS, 'rb') as f:\n",
    "    rewards_20 = pickle.load(f)\n",
    "    \n",
    "REWARDS = 'saved_graphs/testing/rewards-5preds30-load-100weight-u75-48898.pkl'\n",
    "with open(REWARDS, 'rb') as f:\n",
    "    rewards_30 = pickle.load(f)\n",
    "    \n",
    "REWARDS = 'saved_graphs/testing/rewards-5preds40-load-100weight-u75-33163.pkl'\n",
    "with open(REWARDS, 'rb') as f:\n",
    "    rewards_40 = pickle.load(f)\n",
    "    \n",
    "REWARDS = 'saved_graphs/testing/rewards-5preds50-load-100weight-u75-28153.pkl'\n",
    "with open(REWARDS, 'rb') as f:\n",
    "    rewards_50 = pickle.load(f)\n",
    "    \n",
    "REWARDS = 'saved_graphs/testing/rewards-5preds60-load-100weight-u75-34222.pkl'\n",
    "with open(REWARDS, 'rb') as f:\n",
    "    rewards_60 = pickle.load(f)\n",
    "    \n",
    "REWARDS = 'saved_graphs/testing/rewards-5preds70-load-100weight-u75-28648.pkl'\n",
    "with open(REWARDS, 'rb') as f:\n",
    "    rewards_70 = pickle.load(f)\n",
    "    \n",
    "REWARDS = 'saved_graphs/testing/rewards-5preds80-load-100weight-u75-26914.pkl'\n",
    "with open(REWARDS, 'rb') as f:\n",
    "    rewards_80 = pickle.load(f)\n",
    "    \n",
    "REWARDS = 'saved_graphs/testing/rewards-5preds90-load-100weight-u75-20131.pkl'\n",
    "with open(REWARDS, 'rb') as f:\n",
    "    rewards_90 = pickle.load(f)\n",
    "    \n",
    "REWARDS = 'saved_graphs/testing/rewards-5preds100-load-100weight-u75-25792.pkl'\n",
    "with open(REWARDS, 'rb') as f:\n",
    "    rewards_100 = pickle.load(f)\n",
    "    \n",
    "REWARDS = 'saved_graphs/testing/rewards-5indeps-100weight-u75-20206.pkl'\n",
    "with open(REWARDS, 'rb') as f:\n",
    "    rewards_ind = pickle.load(f)\n",
    "    \n",
    "rewards_all = []\n",
    "rewards_all.append(rewards_10)\n",
    "rewards_all.append(rewards_20)\n",
    "rewards_all.append(rewards_30)\n",
    "rewards_all.append(rewards_40)\n",
    "rewards_all.append(rewards_50)\n",
    "rewards_all.append(rewards_60)\n",
    "rewards_all.append(rewards_70)\n",
    "rewards_all.append(rewards_80)\n",
    "rewards_all.append(rewards_90)\n",
    "rewards_all.append(rewards_100)\n",
    "rewards_all.append(rewards_ind)\n"
   ]
  },
  {
   "cell_type": "code",
   "execution_count": 16,
   "metadata": {
    "collapsed": false
   },
   "outputs": [
    {
     "data": {
      "image/png": "[encoded data removed]",
      "text/plain": [
       "<matplotlib.figure.Figure at 0x10f1e4b70>"
      ]
     },
     "metadata": {},
     "output_type": "display_data"
    }
   ],
   "source": [
    "time_avg_3 = np.zeros(11)\n",
    "time_std_3 = np.zeros(11)\n",
    "rewards_std_3 = np.zeros(11)\n",
    "for i in range(11):\n",
    "    time_avg_3[i] = sum(elapsed[i])/100\n",
    "    time_std_3[i] = np.std(elapsed[i])\n",
    "    rewards_std_3[i] = np.std(rewards_all[i][99])\n",
    "\n",
    "fig = plt.figure()    \n",
    "plt.bar(np.arange(11), time_avg_3, align='center', alpha=0.5, label = \"Average trial time\")\n",
    "plt.plot(rewards_std_3, 'go', label = \"Rewards distribution stdev\")\n",
    "plt.errorbar(xaxis, time_avg_3, yerr = time_std_3, fmt='b.')\n",
    "plt.xticks(xaxis, xlabel, rotation = 45)\n",
    "leg = plt.legend(loc = 'upper right')\n",
    "\n",
    "ax = plt.gca()\n",
    "# Get the bounding box of the original legend\n",
    "bb = leg.get_bbox_to_anchor().inverse_transformed(ax.transAxes)\n",
    "\n",
    "# Change to location of the legend. \n",
    "xOffset = 0.6\n",
    "bb.x0 += xOffset\n",
    "bb.x1 += xOffset\n",
    "leg.set_bbox_to_anchor(bb, transform = ax.transAxes)\n",
    "\n",
    "plt.xlabel('Group by personal weight')\n",
    "plt.title('Test 3')\n",
    "plt.ylim([0, 65])\n",
    "plt.show()"
   ]
  },
  {
   "cell_type": "code",
   "execution_count": 17,
   "metadata": {
    "collapsed": true
   },
   "outputs": [],
   "source": [
    "collisions = np.zeros([11, 5])\n",
    "COLLISIONS = 'saved_graphs/testing/collsions-5preds10-load-100weight-u75-86182.pkl'\n",
    "with open(COLLISIONS, 'rb') as f:\n",
    "    collisions[0] = pickle.load(f)\n",
    "    \n",
    "COLLISIONS = 'saved_graphs/testing/collsions-5preds20-load-100weight-u75-96376.pkl'\n",
    "with open(COLLISIONS, 'rb') as f:\n",
    "    collisions[1] = pickle.load(f)\n",
    "    \n",
    "COLLISIONS = 'saved_graphs/testing/collsions-5preds30-load-100weight-u75-48898.pkl'\n",
    "with open(COLLISIONS, 'rb') as f:\n",
    "    collisions[2] = pickle.load(f)\n",
    "    \n",
    "COLLISIONS = 'saved_graphs/testing/collsions-5preds40-load-100weight-u75-33163.pkl'\n",
    "with open(COLLISIONS, 'rb') as f:\n",
    "    collisions[3] = pickle.load(f)\n",
    "    \n",
    "COLLISIONS = 'saved_graphs/testing/collsions-5preds50-load-100weight-u75-28153.pkl'\n",
    "with open(COLLISIONS, 'rb') as f:\n",
    "    collisions[4] = pickle.load(f)\n",
    "    \n",
    "COLLISIONS = 'saved_graphs/testing/collsions-5preds60-load-100weight-u75-34222.pkl'\n",
    "with open(COLLISIONS, 'rb') as f:\n",
    "    collisions[5] = pickle.load(f)\n",
    "    \n",
    "COLLISIONS = 'saved_graphs/testing/collsions-5preds70-load-100weight-u75-28648.pkl'\n",
    "with open(COLLISIONS, 'rb') as f:\n",
    "    collisions[6] = pickle.load(f)\n",
    "    \n",
    "COLLISIONS = 'saved_graphs/testing/collsions-5preds80-load-100weight-u75-26914.pkl'\n",
    "with open(COLLISIONS, 'rb') as f:\n",
    "    collisions[7] = pickle.load(f)\n",
    "    \n",
    "COLLISIONS = 'saved_graphs/testing/collsions-5preds90-load-100weight-u75-20131.pkl'\n",
    "with open(COLLISIONS, 'rb') as f:\n",
    "    collisions[8] = pickle.load(f)\n",
    "    \n",
    "COLLISIONS = 'saved_graphs/testing/collsions-5preds100-load-100weight-u75-25792.pkl'\n",
    "with open(COLLISIONS, 'rb') as f:\n",
    "    collisions[9] = pickle.load(f)\n",
    "    \n",
    "COLLISIONS = 'saved_graphs/testing/collsions-5indeps-load-100weight-u75-20206.pkl'\n",
    "with open(COLLISIONS, 'rb') as f:\n",
    "    collisions[10] = pickle.load(f)\n"
   ]
  },
  {
   "cell_type": "code",
   "execution_count": 18,
   "metadata": {
    "collapsed": false
   },
   "outputs": [
    {
     "data": {
      "image/png": "[encoded data removed]",
      "text/plain": [
       "<matplotlib.figure.Figure at 0x10ef90b00>"
      ]
     },
     "metadata": {},
     "output_type": "display_data"
    }
   ],
   "source": [
    "collision_avg_3 = np.zeros(11)\n",
    "collision_std_3 = np.zeros(11)\n",
    "for i in range(11):\n",
    "    collision_avg_3[i] = sum(collisions[i])/5\n",
    "    collision_std_3[i] = np.std(collisions[i])\n",
    "    \n",
    "plt.errorbar(xaxis, collision_avg_3, yerr = collision_std_3, fmt='o')\n",
    "plt.xlabel('Group by personal weight')\n",
    "plt.ylabel('Average collisions')\n",
    "plt.xticks(xaxis, xlabel, rotation = 45)\n",
    "plt.title('Test 3')\n",
    "plt.show()"
   ]
  }
 ],
 "metadata": {
  "kernelspec": {
   "display_name": "Python3 (dqn-multiagent)",
   "language": "python",
   "name": "testenv"
  },
  "language_info": {
   "codemirror_mode": {
    "name": "ipython",
    "version": 3
   },
   "file_extension": ".py",
   "mimetype": "text/x-python",
   "name": "python",
   "nbconvert_exporter": "python",
   "pygments_lexer": "ipython3",
   "version": "3.5.2"
  }
 },
 "nbformat": 4,
 "nbformat_minor": 1
}
